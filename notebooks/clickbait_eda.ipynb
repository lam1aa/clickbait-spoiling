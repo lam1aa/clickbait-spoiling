{
    "cells": [
        {
            "cell_type": "markdown",
            "metadata": {},
            "source": [
                "# Exploratory Data Analysis - Clickbait Spoiler Dataset\n",
                "\n",
                "This notebook analyzes the clickbait spoiler classification dataset to gain insights into the data patterns and characteristics."
            ]
        },
        {
            "cell_type": "code",
            "execution_count": 3,
            "metadata": {},
            "outputs": [],
            "source": [
                "import pandas as pd\n",
                "import numpy as np\n",
                "import matplotlib.pyplot as plt\n",
                "import seaborn as sns\n",
                "import json\n",
                "from collections import Counter\n",
                "\n",
                "# Set plotting style\n",
                "sns.set_theme()\n",
                "%matplotlib inline"
            ]
        },
        {
            "cell_type": "code",
            "execution_count": 4,
            "metadata": {},
            "outputs": [],
            "source": [
                "# Read the JSONL file\n",
                "def read_jsonl(file_path):\n",
                "    data = []\n",
                "    with open(file_path, 'r', encoding='utf-8') as f:\n",
                "        for line in f:\n",
                "            data.append(json.loads(line))\n",
                "    return pd.DataFrame(data)\n",
                "\n",
                "df = read_jsonl('../data/train.jsonl')"
            ]
        },
        {
            "cell_type": "code",
            "execution_count": 5,
            "metadata": {},
            "outputs": [
                {
                    "name": "stdout",
                    "output_type": "stream",
                    "text": [
                        "\n",
                        "Dataset Info:\n",
                        "<class 'pandas.core.frame.DataFrame'>\n",
                        "RangeIndex: 3200 entries, 0 to 3199\n",
                        "Data columns (total 14 columns):\n",
                        " #   Column             Non-Null Count  Dtype \n",
                        "---  ------             --------------  ----- \n",
                        " 0   uuid               3200 non-null   object\n",
                        " 1   postId             3200 non-null   object\n",
                        " 2   postText           3200 non-null   object\n",
                        " 3   postPlatform       3200 non-null   object\n",
                        " 4   targetParagraphs   3200 non-null   object\n",
                        " 5   targetTitle        3200 non-null   object\n",
                        " 6   targetDescription  2933 non-null   object\n",
                        " 7   targetKeywords     2116 non-null   object\n",
                        " 8   targetMedia        2685 non-null   object\n",
                        " 9   targetUrl          2717 non-null   object\n",
                        " 10  provenance         3200 non-null   object\n",
                        " 11  spoiler            3200 non-null   object\n",
                        " 12  spoilerPositions   3200 non-null   object\n",
                        " 13  tags               3200 non-null   object\n",
                        "dtypes: object(14)\n",
                        "memory usage: 350.1+ KB\n",
                        "None\n"
                    ]
                }
            ],
            "source": [
                "print(\"\\nDataset Info:\")\n",
                "print(df.info())"
            ]
        },
        {
            "cell_type": "code",
            "execution_count": 6,
            "metadata": {},
            "outputs": [
                {
                    "name": "stdout",
                    "output_type": "stream",
                    "text": [
                        "Dataset Shape: (3200, 14)\n",
                        "\n",
                        "Columns: ['uuid', 'postId', 'postText', 'postPlatform', 'targetParagraphs', 'targetTitle', 'targetDescription', 'targetKeywords', 'targetMedia', 'targetUrl', 'provenance', 'spoiler', 'spoilerPositions', 'tags']\n",
                        "\n",
                        "Sample sizes by tag type:\n",
                        "tags\n",
                        "[phrase]     1367\n",
                        "[passage]    1274\n",
                        "[multi]       559\n",
                        "Name: count, dtype: int64\n"
                    ]
                }
            ],
            "source": [
                "# Basic dataset info\n",
                "print('Dataset Shape:', df.shape)\n",
                "print('\\nColumns:', df.columns.tolist())\n",
                "print('\\nSample sizes by tag type:')\n",
                "print(df['tags'].value_counts())"
            ]
        },
        {
            "cell_type": "code",
            "execution_count": 7,
            "metadata": {},
            "outputs": [
                {
                    "name": "stdout",
                    "output_type": "stream",
                    "text": [
                        "-Missing Values:\n",
                        "uuid                    0\n",
                        "postId                  0\n",
                        "postText                0\n",
                        "postPlatform            0\n",
                        "targetParagraphs        0\n",
                        "targetTitle             0\n",
                        "targetDescription     267\n",
                        "targetKeywords       1084\n",
                        "targetMedia           515\n",
                        "targetUrl             483\n",
                        "provenance              0\n",
                        "spoiler                 0\n",
                        "spoilerPositions        0\n",
                        "tags                    0\n",
                        "dtype: int64\n"
                    ]
                }
            ],
            "source": [
                "# Check missing values\n",
                "print(\"-Missing Values:\")\n",
                "print(df.isnull().sum())"
            ]
        },
        {
            "cell_type": "code",
            "execution_count": 8,
            "metadata": {},
            "outputs": [
                {
                    "data": {
                        "text/html": [
                            "<div>\n",
                            "<style scoped>\n",
                            "    .dataframe tbody tr th:only-of-type {\n",
                            "        vertical-align: middle;\n",
                            "    }\n",
                            "\n",
                            "    .dataframe tbody tr th {\n",
                            "        vertical-align: top;\n",
                            "    }\n",
                            "\n",
                            "    .dataframe thead th {\n",
                            "        text-align: right;\n",
                            "    }\n",
                            "</style>\n",
                            "<table border=\"1\" class=\"dataframe\">\n",
                            "  <thead>\n",
                            "    <tr style=\"text-align: right;\">\n",
                            "      <th></th>\n",
                            "      <th>uuid</th>\n",
                            "      <th>postId</th>\n",
                            "      <th>postText</th>\n",
                            "      <th>postPlatform</th>\n",
                            "      <th>targetParagraphs</th>\n",
                            "      <th>targetTitle</th>\n",
                            "      <th>targetDescription</th>\n",
                            "      <th>targetKeywords</th>\n",
                            "      <th>targetMedia</th>\n",
                            "      <th>targetUrl</th>\n",
                            "      <th>provenance</th>\n",
                            "      <th>spoiler</th>\n",
                            "      <th>spoilerPositions</th>\n",
                            "      <th>tags</th>\n",
                            "    </tr>\n",
                            "  </thead>\n",
                            "  <tbody>\n",
                            "    <tr>\n",
                            "      <th>0</th>\n",
                            "      <td>0af11f6b-c889-4520-9372-66ba25cb7657</td>\n",
                            "      <td>532quh</td>\n",
                            "      <td>[Wes Welker Wanted Dinner With Tom Brady, But ...</td>\n",
                            "      <td>reddit</td>\n",
                            "      <td>[It’ll be just like old times this weekend for...</td>\n",
                            "      <td>Wes Welker Wanted Dinner With Tom Brady, But P...</td>\n",
                            "      <td>It'll be just like old times this weekend for ...</td>\n",
                            "      <td>new england patriots, ricky doyle, top stories,</td>\n",
                            "      <td>[http://pixel.wp.com/b.gif?v=noscript, http://...</td>\n",
                            "      <td>http://nesn.com/2016/09/wes-welker-wanted-dinn...</td>\n",
                            "      <td>{'source': 'anonymized', 'humanSpoiler': 'They...</td>\n",
                            "      <td>[how about that morning we go throw?]</td>\n",
                            "      <td>[[[3, 151], [3, 186]]]</td>\n",
                            "      <td>[passage]</td>\n",
                            "    </tr>\n",
                            "    <tr>\n",
                            "      <th>1</th>\n",
                            "      <td>b1a1f63d-8853-4a11-89e8-6b2952a393ec</td>\n",
                            "      <td>411701128456593408</td>\n",
                            "      <td>[NASA sets date for full recovery of ozone hole]</td>\n",
                            "      <td>Twitter</td>\n",
                            "      <td>[2070 is shaping up to be a great year for Mot...</td>\n",
                            "      <td>Hole In Ozone Layer Expected To Make Full Reco...</td>\n",
                            "      <td>2070 is shaping up to be a great year for Moth...</td>\n",
                            "      <td>ozone layer,ozone hole determined by weather,M...</td>\n",
                            "      <td>[http://s.m.huffpost.com/assets/Logo_Huffingto...</td>\n",
                            "      <td>http://huff.to/1cH672Z</td>\n",
                            "      <td>{'source': 'anonymized', 'humanSpoiler': '2070...</td>\n",
                            "      <td>[2070]</td>\n",
                            "      <td>[[[0, 0], [0, 4]]]</td>\n",
                            "      <td>[phrase]</td>\n",
                            "    </tr>\n",
                            "    <tr>\n",
                            "      <th>2</th>\n",
                            "      <td>008b7b19-0445-4e16-8f9e-075b73f80ca4</td>\n",
                            "      <td>380537005123190784</td>\n",
                            "      <td>[This is what makes employees happy -- and it'...</td>\n",
                            "      <td>Twitter</td>\n",
                            "      <td>[Despite common belief, money isn't the key to...</td>\n",
                            "      <td>Intellectual Stimulation Trumps Money For Empl...</td>\n",
                            "      <td>By: Chad Brooks \\r\\nPublished: 09/18/2013 06:4...</td>\n",
                            "      <td>employee happiness money,employee happiness in...</td>\n",
                            "      <td>[http://i.huffpost.com/gen/1359674/images/o-HA...</td>\n",
                            "      <td>http://huff.to/1epfeaw</td>\n",
                            "      <td>{'source': 'anonymized', 'humanSpoiler': 'Inte...</td>\n",
                            "      <td>[intellectual stimulation]</td>\n",
                            "      <td>[[[1, 186], [1, 210]]]</td>\n",
                            "      <td>[phrase]</td>\n",
                            "    </tr>\n",
                            "    <tr>\n",
                            "      <th>3</th>\n",
                            "      <td>31ecf93c-3e21-4c80-949b-aa549a046b93</td>\n",
                            "      <td>844567852531286016</td>\n",
                            "      <td>[Passion is overrated — 7 work habits you need...</td>\n",
                            "      <td>Twitter</td>\n",
                            "      <td>[It’s common wisdom. Near gospel really, and n...</td>\n",
                            "      <td>‘Follow your passion’ is wrong, here are 7 hab...</td>\n",
                            "      <td>There's a lot more to work that loving your job</td>\n",
                            "      <td>business, work-life, careers</td>\n",
                            "      <td>None</td>\n",
                            "      <td>None</td>\n",
                            "      <td>{'source': 'anonymized', 'humanSpoiler': None,...</td>\n",
                            "      <td>[Purpose connects us to something bigger and i...</td>\n",
                            "      <td>[[[11, 25], [11, 101]], [[17, 56], [17, 85]], ...</td>\n",
                            "      <td>[multi]</td>\n",
                            "    </tr>\n",
                            "    <tr>\n",
                            "      <th>4</th>\n",
                            "      <td>31b108a3-c828-421a-a4b9-cf651e9ac859</td>\n",
                            "      <td>814186311573766144</td>\n",
                            "      <td>[The perfect way to cook rice so that it's per...</td>\n",
                            "      <td>Twitter</td>\n",
                            "      <td>[Boiling rice may seem simple, but there is a ...</td>\n",
                            "      <td>Revealed: The perfect way to cook rice so that...</td>\n",
                            "      <td>The question 'How does one cook rice properly?...</td>\n",
                            "      <td>Quora,users,share,perfect,way,cook,rice</td>\n",
                            "      <td>None</td>\n",
                            "      <td>None</td>\n",
                            "      <td>{'source': 'anonymized', 'humanSpoiler': None,...</td>\n",
                            "      <td>[in a rice cooker]</td>\n",
                            "      <td>[[[5, 60], [5, 76]]]</td>\n",
                            "      <td>[phrase]</td>\n",
                            "    </tr>\n",
                            "  </tbody>\n",
                            "</table>\n",
                            "</div>"
                        ],
                        "text/plain": [
                            "                                   uuid              postId  \\\n",
                            "0  0af11f6b-c889-4520-9372-66ba25cb7657              532quh   \n",
                            "1  b1a1f63d-8853-4a11-89e8-6b2952a393ec  411701128456593408   \n",
                            "2  008b7b19-0445-4e16-8f9e-075b73f80ca4  380537005123190784   \n",
                            "3  31ecf93c-3e21-4c80-949b-aa549a046b93  844567852531286016   \n",
                            "4  31b108a3-c828-421a-a4b9-cf651e9ac859  814186311573766144   \n",
                            "\n",
                            "                                            postText postPlatform  \\\n",
                            "0  [Wes Welker Wanted Dinner With Tom Brady, But ...       reddit   \n",
                            "1   [NASA sets date for full recovery of ozone hole]      Twitter   \n",
                            "2  [This is what makes employees happy -- and it'...      Twitter   \n",
                            "3  [Passion is overrated — 7 work habits you need...      Twitter   \n",
                            "4  [The perfect way to cook rice so that it's per...      Twitter   \n",
                            "\n",
                            "                                    targetParagraphs  \\\n",
                            "0  [It’ll be just like old times this weekend for...   \n",
                            "1  [2070 is shaping up to be a great year for Mot...   \n",
                            "2  [Despite common belief, money isn't the key to...   \n",
                            "3  [It’s common wisdom. Near gospel really, and n...   \n",
                            "4  [Boiling rice may seem simple, but there is a ...   \n",
                            "\n",
                            "                                         targetTitle  \\\n",
                            "0  Wes Welker Wanted Dinner With Tom Brady, But P...   \n",
                            "1  Hole In Ozone Layer Expected To Make Full Reco...   \n",
                            "2  Intellectual Stimulation Trumps Money For Empl...   \n",
                            "3  ‘Follow your passion’ is wrong, here are 7 hab...   \n",
                            "4  Revealed: The perfect way to cook rice so that...   \n",
                            "\n",
                            "                                   targetDescription  \\\n",
                            "0  It'll be just like old times this weekend for ...   \n",
                            "1  2070 is shaping up to be a great year for Moth...   \n",
                            "2  By: Chad Brooks \\r\\nPublished: 09/18/2013 06:4...   \n",
                            "3    There's a lot more to work that loving your job   \n",
                            "4  The question 'How does one cook rice properly?...   \n",
                            "\n",
                            "                                      targetKeywords  \\\n",
                            "0    new england patriots, ricky doyle, top stories,   \n",
                            "1  ozone layer,ozone hole determined by weather,M...   \n",
                            "2  employee happiness money,employee happiness in...   \n",
                            "3                       business, work-life, careers   \n",
                            "4            Quora,users,share,perfect,way,cook,rice   \n",
                            "\n",
                            "                                         targetMedia  \\\n",
                            "0  [http://pixel.wp.com/b.gif?v=noscript, http://...   \n",
                            "1  [http://s.m.huffpost.com/assets/Logo_Huffingto...   \n",
                            "2  [http://i.huffpost.com/gen/1359674/images/o-HA...   \n",
                            "3                                               None   \n",
                            "4                                               None   \n",
                            "\n",
                            "                                           targetUrl  \\\n",
                            "0  http://nesn.com/2016/09/wes-welker-wanted-dinn...   \n",
                            "1                             http://huff.to/1cH672Z   \n",
                            "2                             http://huff.to/1epfeaw   \n",
                            "3                                               None   \n",
                            "4                                               None   \n",
                            "\n",
                            "                                          provenance  \\\n",
                            "0  {'source': 'anonymized', 'humanSpoiler': 'They...   \n",
                            "1  {'source': 'anonymized', 'humanSpoiler': '2070...   \n",
                            "2  {'source': 'anonymized', 'humanSpoiler': 'Inte...   \n",
                            "3  {'source': 'anonymized', 'humanSpoiler': None,...   \n",
                            "4  {'source': 'anonymized', 'humanSpoiler': None,...   \n",
                            "\n",
                            "                                             spoiler  \\\n",
                            "0              [how about that morning we go throw?]   \n",
                            "1                                             [2070]   \n",
                            "2                         [intellectual stimulation]   \n",
                            "3  [Purpose connects us to something bigger and i...   \n",
                            "4                                 [in a rice cooker]   \n",
                            "\n",
                            "                                    spoilerPositions       tags  \n",
                            "0                             [[[3, 151], [3, 186]]]  [passage]  \n",
                            "1                                 [[[0, 0], [0, 4]]]   [phrase]  \n",
                            "2                             [[[1, 186], [1, 210]]]   [phrase]  \n",
                            "3  [[[11, 25], [11, 101]], [[17, 56], [17, 85]], ...    [multi]  \n",
                            "4                               [[[5, 60], [5, 76]]]   [phrase]  "
                        ]
                    },
                    "execution_count": 8,
                    "metadata": {},
                    "output_type": "execute_result"
                }
            ],
            "source": [
                "df.head()"
            ]
        },
        {
            "cell_type": "code",
            "execution_count": 9,
            "metadata": {},
            "outputs": [
                {
                    "name": "stdout",
                    "output_type": "stream",
                    "text": [
                        "=== Example of Different Texts ===\n",
                        "Post Text: ['Wes Welker Wanted Dinner With Tom Brady, But Patriots QB Had Better Idea']\n",
                        "Target Title: Wes Welker Wanted Dinner With Tom Brady, But Patriots QB Had A Better Idea\n",
                        "Description: It'll be just like old times this weekend for Tom Brady and Wes Welker. Welker revealed Friday morning on a Miami radio station that he contacted Brady because he'll be in town for Sunday's game between the New England Patriots and Miami Dolphins at Gillette Stadium.\n",
                        "First Paragraph: It’ll be just like old times this weekend for Tom Brady and Wes Welker.\n",
                        "spoiler: ['how about that morning we go throw?']\n",
                        "spoiler Position: [[[3, 151], [3, 186]]]\n"
                    ]
                }
            ],
            "source": [
                "def show_text_example():\n",
                "    # Find example with different texts\n",
                "    for idx, row in df.iterrows():\n",
                "        if ' '.join(row['postText']) != row['targetTitle'] and pd.notna(row['targetDescription']):\n",
                "            print(\"=== Example of Different Texts ===\")\n",
                "            print(f\"Post Text: {row['postText']}\")\n",
                "            print(f\"Target Title: {row['targetTitle']}\")\n",
                "            print(f\"Description: {row['targetDescription']}\")\n",
                "            print(f\"First Paragraph: {row['targetParagraphs'][0]}\")\n",
                "            print(f\"spoiler: {row['spoiler']}\")\n",
                "            print(f\"spoiler Position: {row['spoilerPositions']}\")\n",
                "            break\n",
                "\n",
                "show_text_example()"
            ]
        },
        {
            "cell_type": "code",
            "execution_count": 10,
            "metadata": {},
            "outputs": [
                {
                    "name": "stderr",
                    "output_type": "stream",
                    "text": [
                        "c:\\Users\\lamia\\Documents\\DS Study\\ANLP\\Project\\clickbait-spoiling\\venv\\Lib\\site-packages\\seaborn\\_oldcore.py:1498: FutureWarning: is_categorical_dtype is deprecated and will be removed in a future version. Use isinstance(dtype, CategoricalDtype) instead\n",
                        "  if pd.api.types.is_categorical_dtype(vector):\n",
                        "c:\\Users\\lamia\\Documents\\DS Study\\ANLP\\Project\\clickbait-spoiling\\venv\\Lib\\site-packages\\seaborn\\_oldcore.py:1498: FutureWarning: is_categorical_dtype is deprecated and will be removed in a future version. Use isinstance(dtype, CategoricalDtype) instead\n",
                        "  if pd.api.types.is_categorical_dtype(vector):\n",
                        "c:\\Users\\lamia\\Documents\\DS Study\\ANLP\\Project\\clickbait-spoiling\\venv\\Lib\\site-packages\\seaborn\\_oldcore.py:1498: FutureWarning: is_categorical_dtype is deprecated and will be removed in a future version. Use isinstance(dtype, CategoricalDtype) instead\n",
                        "  if pd.api.types.is_categorical_dtype(vector):\n"
                    ]
                },
                {
                    "data": {
                        "image/png": "[encoded data removed]",
                        "text/plain": [
                            "<Figure size 1000x500 with 1 Axes>"
                        ]
                    },
                    "metadata": {},
                    "output_type": "display_data"
                }
            ],
            "source": [
                "# Analyze post platforms\n",
                "plt.figure(figsize=(10,5))\n",
                "# Convert postPlatform to category type and plot\n",
                "platform_counts = df['postPlatform'].value_counts()\n",
                "sns.barplot(x=platform_counts.index, y=platform_counts.values)\n",
                "plt.title('Distribution of Post Platforms')\n",
                "plt.xticks(rotation=45)\n",
                "plt.xlabel('Platform')\n",
                "plt.ylabel('Count')\n",
                "plt.tight_layout()\n",
                "plt.show()"
            ]
        },
        {
            "cell_type": "code",
            "execution_count": 11,
            "metadata": {},
            "outputs": [
                {
                    "name": "stderr",
                    "output_type": "stream",
                    "text": [
                        "c:\\Users\\lamia\\Documents\\DS Study\\ANLP\\Project\\clickbait-spoiling\\venv\\Lib\\site-packages\\seaborn\\_oldcore.py:1498: FutureWarning: is_categorical_dtype is deprecated and will be removed in a future version. Use isinstance(dtype, CategoricalDtype) instead\n",
                        "  if pd.api.types.is_categorical_dtype(vector):\n",
                        "c:\\Users\\lamia\\Documents\\DS Study\\ANLP\\Project\\clickbait-spoiling\\venv\\Lib\\site-packages\\seaborn\\_oldcore.py:1119: FutureWarning: use_inf_as_na option is deprecated and will be removed in a future version. Convert inf values to NaN before operating instead.\n",
                        "  with pd.option_context('mode.use_inf_as_na', True):\n"
                    ]
                },
                {
                    "data": {
                        "image/png": "[encoded data removed]",
                        "text/plain": [
                            "<Figure size 1200x500 with 1 Axes>"
                        ]
                    },
                    "metadata": {},
                    "output_type": "display_data"
                }
            ],
            "source": [
                "# Analyze text lengths\n",
                "def get_text_length(text_list):\n",
                "    return len(' '.join(text_list))\n",
                "\n",
                "df['post_text_length'] = df['postText'].apply(get_text_length)\n",
                "\n",
                "plt.figure(figsize=(12,5))\n",
                "sns.histplot(data=df, x='post_text_length', bins=50)\n",
                "plt.title('Distribution of Post Text Lengths')\n",
                "plt.xlabel('Text Length')\n",
                "plt.show()"
            ]
        },
        {
            "cell_type": "code",
            "execution_count": 12,
            "metadata": {},
            "outputs": [
                {
                    "name": "stderr",
                    "output_type": "stream",
                    "text": [
                        "c:\\Users\\lamia\\Documents\\DS Study\\ANLP\\Project\\clickbait-spoiling\\venv\\Lib\\site-packages\\seaborn\\_oldcore.py:1498: FutureWarning: is_categorical_dtype is deprecated and will be removed in a future version. Use isinstance(dtype, CategoricalDtype) instead\n",
                        "  if pd.api.types.is_categorical_dtype(vector):\n",
                        "c:\\Users\\lamia\\Documents\\DS Study\\ANLP\\Project\\clickbait-spoiling\\venv\\Lib\\site-packages\\seaborn\\_oldcore.py:1498: FutureWarning: is_categorical_dtype is deprecated and will be removed in a future version. Use isinstance(dtype, CategoricalDtype) instead\n",
                        "  if pd.api.types.is_categorical_dtype(vector):\n",
                        "c:\\Users\\lamia\\Documents\\DS Study\\ANLP\\Project\\clickbait-spoiling\\venv\\Lib\\site-packages\\seaborn\\_oldcore.py:1498: FutureWarning: is_categorical_dtype is deprecated and will be removed in a future version. Use isinstance(dtype, CategoricalDtype) instead\n",
                        "  if pd.api.types.is_categorical_dtype(vector):\n"
                    ]
                },
                {
                    "data": {
                        "image/png": "[encoded data removed]",
                        "text/plain": [
                            "<Figure size 1000x600 with 1 Axes>"
                        ]
                    },
                    "metadata": {},
                    "output_type": "display_data"
                },
                {
                    "name": "stdout",
                    "output_type": "stream",
                    "text": [
                        "\n",
                        "Basic Statistics:\n",
                        "tags_str\n",
                        "phrase     0.427187\n",
                        "passage    0.398125\n",
                        "multi      0.174687\n",
                        "Name: proportion, dtype: float64\n"
                    ]
                }
            ],
            "source": [
                "# Convert tags from list to string\n",
                "df['tags_str'] = df['tags'].apply(lambda x: x[0] if isinstance(x, list) else x)\n",
                "\n",
                "# Class distribution\n",
                "plt.figure(figsize=(10, 6))\n",
                "sns.countplot(data=df, x='tags_str')\n",
                "plt.title('Distribution of Spoiler Types')\n",
                "plt.xticks(rotation=45)\n",
                "plt.tight_layout()\n",
                "plt.show()\n",
                "\n",
                "# Display basic statistics\n",
                "print(\"\\nBasic Statistics:\")\n",
                "print(df['tags_str'].value_counts(normalize=True))"
            ]
        }
    ],
    "metadata": {
        "kernelspec": {
            "display_name": "venv",
            "language": "python",
            "name": "python3"
        },
        "language_info": {
            "codemirror_mode": {
                "name": "ipython",
                "version": 3
            },
            "file_extension": ".py",
            "mimetype": "text/x-python",
            "name": "python",
            "nbconvert_exporter": "python",
            "pygments_lexer": "ipython3",
            "version": "3.11.6"
        }
    },
    "nbformat": 4,
    "nbformat_minor": 2
}
